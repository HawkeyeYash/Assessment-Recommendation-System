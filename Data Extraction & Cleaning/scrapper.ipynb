{
 "cells": [
  {
   "cell_type": "code",
   "execution_count": null,
   "id": "da57a75c",
   "metadata": {},
   "outputs": [
    {
     "name": "stdout",
     "output_type": "stream",
     "text": [
      "file saved\n"
     ]
    }
   ],
   "source": [
    "import requests\n",
    "from bs4 import BeautifulSoup\n",
    "import pandas as pd\n",
    "import time\n",
    "\n",
    "base_url = \"https://www.shl.com\"\n",
    "catalog_url = f\"{base_url}/products/product-catalog/?start=372&type=1&type=1\"\n",
    "\n",
    "def extract_field(soup, heading_text):\n",
    "    header = soup.find('h4', string=lambda s: s and heading_text.lower() in s.lower())\n",
    "    if header:\n",
    "        p_tag = header.find_next_sibling('p')\n",
    "        if p_tag:\n",
    "            return p_tag.text.strip()\n",
    "    return ''\n",
    "\n",
    "response = requests.get(catalog_url)\n",
    "soup = BeautifulSoup(response.text, 'html.parser')\n",
    "rows = soup.find_all('tr')\n",
    "\n",
    "data = []\n",
    "\n",
    "for row in rows:\n",
    "    product = {}\n",
    "\n",
    "    title_cell = row.find('td', class_='custom__table-heading__title')\n",
    "    if not title_cell:\n",
    "        continue\n",
    "    link_tag = title_cell.find('a')\n",
    "    product['Assessment Name'] = link_tag.text.strip() if link_tag else ''\n",
    "    relative_link = link_tag['href'].strip() if link_tag and link_tag.get('href') else ''\n",
    "    full_link = base_url + relative_link\n",
    "    product['URL'] = full_link\n",
    "\n",
    "    general_cells = row.find_all('td', class_='custom__table-heading__general')\n",
    "    for i, cell in enumerate(general_cells[:2], start=1):\n",
    "        yes_span = cell.find('span', class_='catalogue__circle -yes')\n",
    "        product[f'Column_{i}'] = 'Yes' if yes_span else 'No'\n",
    "\n",
    "    key_cell = row.find('td', class_='product-catalogue__keys')\n",
    "    keys = [span.text.strip() for span in key_cell.find_all('span', class_='product-catalogue__key')] if key_cell else []\n",
    "    product['Keys'] = ', '.join(keys)\n",
    "\n",
    "    try:\n",
    "        detail_response = requests.get(full_link)\n",
    "        detail_soup = BeautifulSoup(detail_response.text, 'html.parser')\n",
    "        product['Description'] = extract_field(detail_soup, 'Description')\n",
    "        product['Languages'] = extract_field(detail_soup, 'Languages')\n",
    "        product['Test Duration'] = extract_field(detail_soup, 'Assessment length')\n",
    "        product[\"Job Lelevels\"] = extract_field(detail_soup, 'Job levels')\n",
    "    except Exception as e:\n",
    "        print(f\"Error fetching details from {full_link}: {e}\")\n",
    "        product['Description'] = ''\n",
    "        product['Languages'] = ''\n",
    "        product['Test Duration'] = ''\n",
    "        product[\"Job Lelevels\"] = ''\n",
    "\n",
    "    data.append(product)\n",
    "    \n",
    "    time.sleep(0.5)\n",
    "\n",
    "df = pd.DataFrame(data)\n",
    "df.to_csv(\"shl_full_catalog.csv\", index=False)\n",
    "print(\"file saved\")\n"
   ]
  }
 ],
 "metadata": {
  "kernelspec": {
   "display_name": "venv",
   "language": "python",
   "name": "python3"
  },
  "language_info": {
   "codemirror_mode": {
    "name": "ipython",
    "version": 3
   },
   "file_extension": ".py",
   "mimetype": "text/x-python",
   "name": "python",
   "nbconvert_exporter": "python",
   "pygments_lexer": "ipython3",
   "version": "3.10.9"
  }
 },
 "nbformat": 4,
 "nbformat_minor": 5
}
